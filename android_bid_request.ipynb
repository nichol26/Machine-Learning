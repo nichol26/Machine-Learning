{
 "cells": [
  {
   "cell_type": "markdown",
   "metadata": {},
   "source": [
    "## Feature Selection and Feature Engineering of Android Bid Request Data from the US"
   ]
  },
  {
   "cell_type": "markdown",
   "metadata": {},
   "source": [
    "Overview: This notebook uses data exploration and an ExtraTreesClassifier algorithm to determine rank feature importance of a dataset with over 3 millions observations of whether cellphone users clicked an online advertisement between September 2018 and November 2018. This notebook then goes on to reduce the dimensions of the catagorical variables through binning according to click proportion frequency as well as produce new variables from existing features in the dataset. "
   ]
  },
  {
   "cell_type": "code",
   "execution_count": 1,
   "metadata": {},
   "outputs": [],
   "source": [
    "# Import python packages\n",
    "import pandas as pd\n",
    "import numpy as np\n",
    "from sklearn.preprocessing import OneHotEncoder\n",
    "from sklearn.model_selection import train_test_split \n",
    "from sklearn.ensemble import RandomForestClassifier, ExtraTreesClassifier\n",
    "import matplotlib.pyplot as plt\n",
    "from sklearn.metrics import plot_confusion_matrix\n",
    "from sklearn.metrics import roc_auc_score\n",
    "from datetime import datetime\n",
    "import seaborn as sns\n",
    "%matplotlib inline"
   ]
  },
  {
   "cell_type": "code",
   "execution_count": 2,
   "metadata": {},
   "outputs": [],
   "source": [
    "# Import dataset\n",
    "dataset = pd.read_csv('android_bids_us.csv', index_col = 'bidid' )"
   ]
  },
  {
   "cell_type": "markdown",
   "metadata": {},
   "source": [
    "### Data Exploration "
   ]
  },
  {
   "cell_type": "code",
   "execution_count": 3,
   "metadata": {},
   "outputs": [
    {
     "data": {
      "text/plain": [
       "(3148828, 11)"
      ]
     },
     "execution_count": 3,
     "metadata": {},
     "output_type": "execute_result"
    }
   ],
   "source": [
    "# View how big the dataset is\n",
    "dataset.shape"
   ]
  },
  {
   "cell_type": "code",
   "execution_count": 4,
   "metadata": {},
   "outputs": [
    {
     "name": "stdout",
     "output_type": "stream",
     "text": [
      "<class 'pandas.core.frame.DataFrame'>\n",
      "Index: 3148828 entries, 87b0108c-6e9f-4783-8b80-8dd5aa3529a8 to 971a5f81-96e0-4694-be22-5809e90de06d\n",
      "Data columns (total 11 columns):\n",
      "utc_time         int64\n",
      "app_id           object\n",
      "user_state       object\n",
      "user_isp         object\n",
      "device_maker     object\n",
      "device_model     object\n",
      "device_osv       object\n",
      "device_height    int64\n",
      "device_width     int64\n",
      "marketplace      object\n",
      "click            int64\n",
      "dtypes: int64(4), object(7)\n",
      "memory usage: 288.3+ MB\n"
     ]
    }
   ],
   "source": [
    "# Quickly see the column names and types of the dataset\n",
    "dataset.info()"
   ]
  },
  {
   "cell_type": "code",
   "execution_count": 5,
   "metadata": {},
   "outputs": [
    {
     "data": {
      "text/html": [
       "<div>\n",
       "<style scoped>\n",
       "    .dataframe tbody tr th:only-of-type {\n",
       "        vertical-align: middle;\n",
       "    }\n",
       "\n",
       "    .dataframe tbody tr th {\n",
       "        vertical-align: top;\n",
       "    }\n",
       "\n",
       "    .dataframe thead th {\n",
       "        text-align: right;\n",
       "    }\n",
       "</style>\n",
       "<table border=\"1\" class=\"dataframe\">\n",
       "  <thead>\n",
       "    <tr style=\"text-align: right;\">\n",
       "      <th></th>\n",
       "      <th>utc_time</th>\n",
       "      <th>app_id</th>\n",
       "      <th>user_state</th>\n",
       "      <th>user_isp</th>\n",
       "      <th>device_maker</th>\n",
       "      <th>device_model</th>\n",
       "      <th>device_osv</th>\n",
       "      <th>device_height</th>\n",
       "      <th>device_width</th>\n",
       "      <th>marketplace</th>\n",
       "      <th>click</th>\n",
       "    </tr>\n",
       "    <tr>\n",
       "      <th>bidid</th>\n",
       "      <th></th>\n",
       "      <th></th>\n",
       "      <th></th>\n",
       "      <th></th>\n",
       "      <th></th>\n",
       "      <th></th>\n",
       "      <th></th>\n",
       "      <th></th>\n",
       "      <th></th>\n",
       "      <th></th>\n",
       "      <th></th>\n",
       "    </tr>\n",
       "  </thead>\n",
       "  <tbody>\n",
       "    <tr>\n",
       "      <th>87b0108c-6e9f-4783-8b80-8dd5aa3529a8</th>\n",
       "      <td>1536444331894</td>\n",
       "      <td>com.OppanaGames.CarSim</td>\n",
       "      <td>TX</td>\n",
       "      <td>AT&amp;T Wireless</td>\n",
       "      <td>NaN</td>\n",
       "      <td>NaN</td>\n",
       "      <td>7.0</td>\n",
       "      <td>720</td>\n",
       "      <td>1280</td>\n",
       "      <td>chartboost</td>\n",
       "      <td>0</td>\n",
       "    </tr>\n",
       "    <tr>\n",
       "      <th>9284441f-a6ea-4698-9017-86436b92d416</th>\n",
       "      <td>1536444363932</td>\n",
       "      <td>com.mobilityware.CrownSolitaire</td>\n",
       "      <td>TX</td>\n",
       "      <td>T-Mobile USA</td>\n",
       "      <td>NaN</td>\n",
       "      <td>NaN</td>\n",
       "      <td>7.0</td>\n",
       "      <td>1280</td>\n",
       "      <td>720</td>\n",
       "      <td>chartboost</td>\n",
       "      <td>0</td>\n",
       "    </tr>\n",
       "    <tr>\n",
       "      <th>7e4779c2-f757-4324-8c2a-138b558b5a54</th>\n",
       "      <td>1536444386908</td>\n",
       "      <td>com.kuttigames.tenkyurollball</td>\n",
       "      <td>LA</td>\n",
       "      <td>AT&amp;T Wireless</td>\n",
       "      <td>NaN</td>\n",
       "      <td>NaN</td>\n",
       "      <td>7.1.1</td>\n",
       "      <td>720</td>\n",
       "      <td>1280</td>\n",
       "      <td>chartboost</td>\n",
       "      <td>0</td>\n",
       "    </tr>\n",
       "    <tr>\n",
       "      <th>b64ea208-38ca-42ac-895e-0842d7352cc3</th>\n",
       "      <td>1536444405023</td>\n",
       "      <td>com.trendactionfree.call_of_sniper_duty_frontl...</td>\n",
       "      <td>TN</td>\n",
       "      <td>Comcast Cable</td>\n",
       "      <td>NaN</td>\n",
       "      <td>NaN</td>\n",
       "      <td>6.0.1</td>\n",
       "      <td>720</td>\n",
       "      <td>1280</td>\n",
       "      <td>chartboost</td>\n",
       "      <td>0</td>\n",
       "    </tr>\n",
       "    <tr>\n",
       "      <th>fd0c07cb-31f6-408c-9315-1cb652e76abc</th>\n",
       "      <td>1536444443458</td>\n",
       "      <td>com.landslab.my3rdgrademathgames</td>\n",
       "      <td>NC</td>\n",
       "      <td>AT&amp;T U-verse</td>\n",
       "      <td>NaN</td>\n",
       "      <td>NaN</td>\n",
       "      <td>7.1.1</td>\n",
       "      <td>1024</td>\n",
       "      <td>768</td>\n",
       "      <td>chartboost</td>\n",
       "      <td>0</td>\n",
       "    </tr>\n",
       "  </tbody>\n",
       "</table>\n",
       "</div>"
      ],
      "text/plain": [
       "                                           utc_time  \\\n",
       "bidid                                                 \n",
       "87b0108c-6e9f-4783-8b80-8dd5aa3529a8  1536444331894   \n",
       "9284441f-a6ea-4698-9017-86436b92d416  1536444363932   \n",
       "7e4779c2-f757-4324-8c2a-138b558b5a54  1536444386908   \n",
       "b64ea208-38ca-42ac-895e-0842d7352cc3  1536444405023   \n",
       "fd0c07cb-31f6-408c-9315-1cb652e76abc  1536444443458   \n",
       "\n",
       "                                                                                 app_id  \\\n",
       "bidid                                                                                     \n",
       "87b0108c-6e9f-4783-8b80-8dd5aa3529a8                             com.OppanaGames.CarSim   \n",
       "9284441f-a6ea-4698-9017-86436b92d416                    com.mobilityware.CrownSolitaire   \n",
       "7e4779c2-f757-4324-8c2a-138b558b5a54                      com.kuttigames.tenkyurollball   \n",
       "b64ea208-38ca-42ac-895e-0842d7352cc3  com.trendactionfree.call_of_sniper_duty_frontl...   \n",
       "fd0c07cb-31f6-408c-9315-1cb652e76abc                   com.landslab.my3rdgrademathgames   \n",
       "\n",
       "                                     user_state       user_isp device_maker  \\\n",
       "bidid                                                                         \n",
       "87b0108c-6e9f-4783-8b80-8dd5aa3529a8         TX  AT&T Wireless          NaN   \n",
       "9284441f-a6ea-4698-9017-86436b92d416         TX   T-Mobile USA          NaN   \n",
       "7e4779c2-f757-4324-8c2a-138b558b5a54         LA  AT&T Wireless          NaN   \n",
       "b64ea208-38ca-42ac-895e-0842d7352cc3         TN  Comcast Cable          NaN   \n",
       "fd0c07cb-31f6-408c-9315-1cb652e76abc         NC   AT&T U-verse          NaN   \n",
       "\n",
       "                                     device_model device_osv  device_height  \\\n",
       "bidid                                                                         \n",
       "87b0108c-6e9f-4783-8b80-8dd5aa3529a8          NaN        7.0            720   \n",
       "9284441f-a6ea-4698-9017-86436b92d416          NaN        7.0           1280   \n",
       "7e4779c2-f757-4324-8c2a-138b558b5a54          NaN      7.1.1            720   \n",
       "b64ea208-38ca-42ac-895e-0842d7352cc3          NaN      6.0.1            720   \n",
       "fd0c07cb-31f6-408c-9315-1cb652e76abc          NaN      7.1.1           1024   \n",
       "\n",
       "                                      device_width marketplace  click  \n",
       "bidid                                                                  \n",
       "87b0108c-6e9f-4783-8b80-8dd5aa3529a8          1280  chartboost      0  \n",
       "9284441f-a6ea-4698-9017-86436b92d416           720  chartboost      0  \n",
       "7e4779c2-f757-4324-8c2a-138b558b5a54          1280  chartboost      0  \n",
       "b64ea208-38ca-42ac-895e-0842d7352cc3          1280  chartboost      0  \n",
       "fd0c07cb-31f6-408c-9315-1cb652e76abc           768  chartboost      0  "
      ]
     },
     "execution_count": 5,
     "metadata": {},
     "output_type": "execute_result"
    }
   ],
   "source": [
    "# See what the columns look like\n",
    "dataset.head()"
   ]
  },
  {
   "cell_type": "code",
   "execution_count": 6,
   "metadata": {},
   "outputs": [
    {
     "name": "stdout",
     "output_type": "stream",
     "text": [
      "               tot_missdata  percent_miss data type\n",
      "device_maker         964004      0.306147    object\n",
      "device_model         963858      0.306101    object\n",
      "user_isp                 39      0.000012    object\n",
      "click                     0      0.000000     int64\n",
      "marketplace               0      0.000000    object\n",
      "device_width              0      0.000000     int64\n",
      "device_height             0      0.000000     int64\n",
      "device_osv                0      0.000000    object\n",
      "user_state                0      0.000000    object\n",
      "app_id                    0      0.000000    object\n",
      "utc_time                  0      0.000000     int64\n"
     ]
    }
   ],
   "source": [
    "# Looks like there are some missing values. Inspect the missing values\n",
    "tot_missdata = dataset.isnull().sum().sort_values(ascending=False)\n",
    "percent_miss = (dataset.isnull().sum()/dataset.isnull().count()).sort_values(ascending=False)\n",
    "data_type = dataset.dtypes\n",
    "missing_data = pd.concat([tot_missdata, percent_miss, data_type], axis=1, join = 'inner', keys=['tot_missdata', 'percent_miss', 'data type'])\n",
    "print(missing_data)"
   ]
  },
  {
   "cell_type": "code",
   "execution_count": 7,
   "metadata": {},
   "outputs": [],
   "source": [
    "# Only object columns have missing data so I will just replace with 'missing'\n",
    "dataset['device_maker'] = dataset['device_maker'].fillna('missing')\n",
    "dataset['device_model'] = dataset['device_model'].fillna('missing')\n",
    "dataset['user_isp'] = dataset['user_isp'].fillna('missing')"
   ]
  },
  {
   "cell_type": "code",
   "execution_count": 8,
   "metadata": {},
   "outputs": [
    {
     "data": {
      "text/html": [
       "<div>\n",
       "<style scoped>\n",
       "    .dataframe tbody tr th:only-of-type {\n",
       "        vertical-align: middle;\n",
       "    }\n",
       "\n",
       "    .dataframe tbody tr th {\n",
       "        vertical-align: top;\n",
       "    }\n",
       "\n",
       "    .dataframe thead th {\n",
       "        text-align: right;\n",
       "    }\n",
       "</style>\n",
       "<table border=\"1\" class=\"dataframe\">\n",
       "  <thead>\n",
       "    <tr style=\"text-align: right;\">\n",
       "      <th></th>\n",
       "      <th>utc_time</th>\n",
       "      <th>app_id</th>\n",
       "      <th>user_state</th>\n",
       "      <th>user_isp</th>\n",
       "      <th>device_maker</th>\n",
       "      <th>device_model</th>\n",
       "      <th>device_osv</th>\n",
       "      <th>device_height</th>\n",
       "      <th>device_width</th>\n",
       "      <th>marketplace</th>\n",
       "      <th>click</th>\n",
       "    </tr>\n",
       "    <tr>\n",
       "      <th>bidid</th>\n",
       "      <th></th>\n",
       "      <th></th>\n",
       "      <th></th>\n",
       "      <th></th>\n",
       "      <th></th>\n",
       "      <th></th>\n",
       "      <th></th>\n",
       "      <th></th>\n",
       "      <th></th>\n",
       "      <th></th>\n",
       "      <th></th>\n",
       "    </tr>\n",
       "  </thead>\n",
       "  <tbody>\n",
       "    <tr>\n",
       "      <th>87b0108c-6e9f-4783-8b80-8dd5aa3529a8</th>\n",
       "      <td>1536444331894</td>\n",
       "      <td>com.OppanaGames.CarSim</td>\n",
       "      <td>TX</td>\n",
       "      <td>AT&amp;T Wireless</td>\n",
       "      <td>missing</td>\n",
       "      <td>missing</td>\n",
       "      <td>7.0</td>\n",
       "      <td>720</td>\n",
       "      <td>1280</td>\n",
       "      <td>chartboost</td>\n",
       "      <td>0</td>\n",
       "    </tr>\n",
       "    <tr>\n",
       "      <th>9284441f-a6ea-4698-9017-86436b92d416</th>\n",
       "      <td>1536444363932</td>\n",
       "      <td>com.mobilityware.CrownSolitaire</td>\n",
       "      <td>TX</td>\n",
       "      <td>T-Mobile USA</td>\n",
       "      <td>missing</td>\n",
       "      <td>missing</td>\n",
       "      <td>7.0</td>\n",
       "      <td>1280</td>\n",
       "      <td>720</td>\n",
       "      <td>chartboost</td>\n",
       "      <td>0</td>\n",
       "    </tr>\n",
       "    <tr>\n",
       "      <th>7e4779c2-f757-4324-8c2a-138b558b5a54</th>\n",
       "      <td>1536444386908</td>\n",
       "      <td>com.kuttigames.tenkyurollball</td>\n",
       "      <td>LA</td>\n",
       "      <td>AT&amp;T Wireless</td>\n",
       "      <td>missing</td>\n",
       "      <td>missing</td>\n",
       "      <td>7.1.1</td>\n",
       "      <td>720</td>\n",
       "      <td>1280</td>\n",
       "      <td>chartboost</td>\n",
       "      <td>0</td>\n",
       "    </tr>\n",
       "    <tr>\n",
       "      <th>b64ea208-38ca-42ac-895e-0842d7352cc3</th>\n",
       "      <td>1536444405023</td>\n",
       "      <td>com.trendactionfree.call_of_sniper_duty_frontl...</td>\n",
       "      <td>TN</td>\n",
       "      <td>Comcast Cable</td>\n",
       "      <td>missing</td>\n",
       "      <td>missing</td>\n",
       "      <td>6.0.1</td>\n",
       "      <td>720</td>\n",
       "      <td>1280</td>\n",
       "      <td>chartboost</td>\n",
       "      <td>0</td>\n",
       "    </tr>\n",
       "    <tr>\n",
       "      <th>fd0c07cb-31f6-408c-9315-1cb652e76abc</th>\n",
       "      <td>1536444443458</td>\n",
       "      <td>com.landslab.my3rdgrademathgames</td>\n",
       "      <td>NC</td>\n",
       "      <td>AT&amp;T U-verse</td>\n",
       "      <td>missing</td>\n",
       "      <td>missing</td>\n",
       "      <td>7.1.1</td>\n",
       "      <td>1024</td>\n",
       "      <td>768</td>\n",
       "      <td>chartboost</td>\n",
       "      <td>0</td>\n",
       "    </tr>\n",
       "  </tbody>\n",
       "</table>\n",
       "</div>"
      ],
      "text/plain": [
       "                                           utc_time  \\\n",
       "bidid                                                 \n",
       "87b0108c-6e9f-4783-8b80-8dd5aa3529a8  1536444331894   \n",
       "9284441f-a6ea-4698-9017-86436b92d416  1536444363932   \n",
       "7e4779c2-f757-4324-8c2a-138b558b5a54  1536444386908   \n",
       "b64ea208-38ca-42ac-895e-0842d7352cc3  1536444405023   \n",
       "fd0c07cb-31f6-408c-9315-1cb652e76abc  1536444443458   \n",
       "\n",
       "                                                                                 app_id  \\\n",
       "bidid                                                                                     \n",
       "87b0108c-6e9f-4783-8b80-8dd5aa3529a8                             com.OppanaGames.CarSim   \n",
       "9284441f-a6ea-4698-9017-86436b92d416                    com.mobilityware.CrownSolitaire   \n",
       "7e4779c2-f757-4324-8c2a-138b558b5a54                      com.kuttigames.tenkyurollball   \n",
       "b64ea208-38ca-42ac-895e-0842d7352cc3  com.trendactionfree.call_of_sniper_duty_frontl...   \n",
       "fd0c07cb-31f6-408c-9315-1cb652e76abc                   com.landslab.my3rdgrademathgames   \n",
       "\n",
       "                                     user_state       user_isp device_maker  \\\n",
       "bidid                                                                         \n",
       "87b0108c-6e9f-4783-8b80-8dd5aa3529a8         TX  AT&T Wireless      missing   \n",
       "9284441f-a6ea-4698-9017-86436b92d416         TX   T-Mobile USA      missing   \n",
       "7e4779c2-f757-4324-8c2a-138b558b5a54         LA  AT&T Wireless      missing   \n",
       "b64ea208-38ca-42ac-895e-0842d7352cc3         TN  Comcast Cable      missing   \n",
       "fd0c07cb-31f6-408c-9315-1cb652e76abc         NC   AT&T U-verse      missing   \n",
       "\n",
       "                                     device_model device_osv  device_height  \\\n",
       "bidid                                                                         \n",
       "87b0108c-6e9f-4783-8b80-8dd5aa3529a8      missing        7.0            720   \n",
       "9284441f-a6ea-4698-9017-86436b92d416      missing        7.0           1280   \n",
       "7e4779c2-f757-4324-8c2a-138b558b5a54      missing      7.1.1            720   \n",
       "b64ea208-38ca-42ac-895e-0842d7352cc3      missing      6.0.1            720   \n",
       "fd0c07cb-31f6-408c-9315-1cb652e76abc      missing      7.1.1           1024   \n",
       "\n",
       "                                      device_width marketplace  click  \n",
       "bidid                                                                  \n",
       "87b0108c-6e9f-4783-8b80-8dd5aa3529a8          1280  chartboost      0  \n",
       "9284441f-a6ea-4698-9017-86436b92d416           720  chartboost      0  \n",
       "7e4779c2-f757-4324-8c2a-138b558b5a54          1280  chartboost      0  \n",
       "b64ea208-38ca-42ac-895e-0842d7352cc3          1280  chartboost      0  \n",
       "fd0c07cb-31f6-408c-9315-1cb652e76abc           768  chartboost      0  "
      ]
     },
     "execution_count": 8,
     "metadata": {},
     "output_type": "execute_result"
    }
   ],
   "source": [
    "# Inspect head of dataset one more time\n",
    "dataset.head()\n",
    "# It looks like that the missing values were filled in correctly"
   ]
  },
  {
   "cell_type": "code",
   "execution_count": 9,
   "metadata": {},
   "outputs": [
    {
     "data": {
      "text/plain": [
       "0    2935629\n",
       "1     213199\n",
       "Name: click, dtype: int64"
      ]
     },
     "execution_count": 9,
     "metadata": {},
     "output_type": "execute_result"
    }
   ],
   "source": [
    "# look at the proportions of clicks to no clicks in the dataset \n",
    "dataset['click'].value_counts()"
   ]
  },
  {
   "cell_type": "code",
   "execution_count": 10,
   "metadata": {},
   "outputs": [
    {
     "data": {
      "text/plain": [
       "0    0.932293\n",
       "1    0.067707\n",
       "Name: click, dtype: float64"
      ]
     },
     "execution_count": 10,
     "metadata": {},
     "output_type": "execute_result"
    }
   ],
   "source": [
    "dataset['click'].value_counts(normalize=True)\n",
    "# It looks like substantially more non clicks than click. From this I would expect a model to produce more non click than clicks"
   ]
  },
  {
   "cell_type": "code",
   "execution_count": 11,
   "metadata": {},
   "outputs": [
    {
     "data": {
      "text/html": [
       "<div>\n",
       "<style scoped>\n",
       "    .dataframe tbody tr th:only-of-type {\n",
       "        vertical-align: middle;\n",
       "    }\n",
       "\n",
       "    .dataframe tbody tr th {\n",
       "        vertical-align: top;\n",
       "    }\n",
       "\n",
       "    .dataframe thead th {\n",
       "        text-align: right;\n",
       "    }\n",
       "</style>\n",
       "<table border=\"1\" class=\"dataframe\">\n",
       "  <thead>\n",
       "    <tr style=\"text-align: right;\">\n",
       "      <th></th>\n",
       "      <th>utc_time</th>\n",
       "      <th>device_height</th>\n",
       "      <th>device_width</th>\n",
       "    </tr>\n",
       "    <tr>\n",
       "      <th>click</th>\n",
       "      <th></th>\n",
       "      <th></th>\n",
       "      <th></th>\n",
       "    </tr>\n",
       "  </thead>\n",
       "  <tbody>\n",
       "    <tr>\n",
       "      <th>0</th>\n",
       "      <td>1538454579744</td>\n",
       "      <td>1080</td>\n",
       "      <td>1080</td>\n",
       "    </tr>\n",
       "    <tr>\n",
       "      <th>1</th>\n",
       "      <td>1538604468218</td>\n",
       "      <td>1280</td>\n",
       "      <td>1080</td>\n",
       "    </tr>\n",
       "  </tbody>\n",
       "</table>\n",
       "</div>"
      ],
      "text/plain": [
       "            utc_time  device_height  device_width\n",
       "click                                            \n",
       "0      1538454579744           1080          1080\n",
       "1      1538604468218           1280          1080"
      ]
     },
     "execution_count": 11,
     "metadata": {},
     "output_type": "execute_result"
    }
   ],
   "source": [
    "# Inspect continuous variables 'device_width' and 'device_height'\n",
    "dataset.groupby('click').median()\n",
    "# Device_width has the same median for clicks and non_clicks. This might imply that device_width not not make a significant difference in whether\n",
    "# users click the add or not\n",
    "# Median of device_height is slightly higher for clicks than non clicks this variable might be more important than device_width for predicting clicks"
   ]
  },
  {
   "cell_type": "code",
   "execution_count": 12,
   "metadata": {},
   "outputs": [
    {
     "data": {
      "text/html": [
       "<div>\n",
       "<style scoped>\n",
       "    .dataframe tbody tr th:only-of-type {\n",
       "        vertical-align: middle;\n",
       "    }\n",
       "\n",
       "    .dataframe tbody tr th {\n",
       "        vertical-align: top;\n",
       "    }\n",
       "\n",
       "    .dataframe thead th {\n",
       "        text-align: right;\n",
       "    }\n",
       "</style>\n",
       "<table border=\"1\" class=\"dataframe\">\n",
       "  <thead>\n",
       "    <tr style=\"text-align: right;\">\n",
       "      <th></th>\n",
       "      <th>utc_time</th>\n",
       "      <th>device_height</th>\n",
       "      <th>device_width</th>\n",
       "    </tr>\n",
       "    <tr>\n",
       "      <th>click</th>\n",
       "      <th></th>\n",
       "      <th></th>\n",
       "      <th></th>\n",
       "    </tr>\n",
       "  </thead>\n",
       "  <tbody>\n",
       "    <tr>\n",
       "      <th>0</th>\n",
       "      <td>1.538318e+12</td>\n",
       "      <td>1177.314715</td>\n",
       "      <td>1158.549623</td>\n",
       "    </tr>\n",
       "    <tr>\n",
       "      <th>1</th>\n",
       "      <td>1.538555e+12</td>\n",
       "      <td>1231.303003</td>\n",
       "      <td>1062.963874</td>\n",
       "    </tr>\n",
       "  </tbody>\n",
       "</table>\n",
       "</div>"
      ],
      "text/plain": [
       "           utc_time  device_height  device_width\n",
       "click                                           \n",
       "0      1.538318e+12    1177.314715   1158.549623\n",
       "1      1.538555e+12    1231.303003   1062.963874"
      ]
     },
     "execution_count": 12,
     "metadata": {},
     "output_type": "execute_result"
    }
   ],
   "source": [
    "dataset.groupby('click').mean()"
   ]
  },
  {
   "cell_type": "code",
   "execution_count": 16,
   "metadata": {},
   "outputs": [
    {
     "data": {
      "text/plain": [
       "<matplotlib.axes._subplots.AxesSubplot at 0x25202ca3f48>"
      ]
     },
     "execution_count": 16,
     "metadata": {},
     "output_type": "execute_result"
    },
    {
     "data": {
      "image/png": "[encoded data removed]",
      "text/plain": [
       "<Figure size 432x288 with 1 Axes>"
      ]
     },
     "metadata": {
      "needs_background": "light"
     },
     "output_type": "display_data"
    }
   ],
   "source": [
    "# Compare clicks against time variable - utc_time\n",
    "sns.boxplot(x=dataset['click'], y=dataset['utc_time'], data = dataset)\n",
    "# Both median and mean, 1st and 3rd quartiles are at later points in time  for clicks than non clicks. As well the overall bulk of the distribution of\n",
    "# the utc_time variable given the user clicked is at a later point in time than the no utc_time variable given no clicks."
   ]
  },
  {
   "cell_type": "code",
   "execution_count": 17,
   "metadata": {},
   "outputs": [
    {
     "data": {
      "text/plain": [
       "<matplotlib.axes._subplots.AxesSubplot at 0x25202e8eb48>"
      ]
     },
     "execution_count": 17,
     "metadata": {},
     "output_type": "execute_result"
    },
    {
     "data": {
      "image/png": "[encoded data removed]",
      "text/plain": [
       "<Figure size 432x288 with 1 Axes>"
      ]
     },
     "metadata": {
      "needs_background": "light"
     },
     "output_type": "display_data"
    }
   ],
   "source": [
    "# Inspect the box plots of both the size variables\n",
    "sns.boxplot(x=dataset['click'], y=dataset['device_width'], data = dataset)\n",
    "# On a quick visual inspection distributions of the device_width for click and non clicks look very similiar"
   ]
  },
  {
   "cell_type": "code",
   "execution_count": 18,
   "metadata": {},
   "outputs": [
    {
     "data": {
      "text/plain": [
       "<matplotlib.axes._subplots.AxesSubplot at 0x25202f12388>"
      ]
     },
     "execution_count": 18,
     "metadata": {},
     "output_type": "execute_result"
    },
    {
     "data": {
      "image/png": "[encoded data removed]",
      "text/plain": [
       "<Figure size 432x288 with 1 Axes>"
      ]
     },
     "metadata": {
      "needs_background": "light"
     },
     "output_type": "display_data"
    }
   ],
   "source": [
    "sns.boxplot(x=dataset['click'], y=dataset['device_height'], data = dataset)\n",
    "# device_height based on clicks and non clicks looks slightly different around the 2nd quartile\n",
    "# However the 1st and 3rd as well as the potential outliers are very similiar\n",
    "# It is predicted that device_height is a more important variable thandevice width"
   ]
  },
  {
   "cell_type": "markdown",
   "metadata": {},
   "source": [
    "Inspecting catagorical variables"
   ]
  },
  {
   "cell_type": "code",
   "execution_count": 19,
   "metadata": {},
   "outputs": [
    {
     "data": {
      "text/html": [
       "<div>\n",
       "<style scoped>\n",
       "    .dataframe tbody tr th:only-of-type {\n",
       "        vertical-align: middle;\n",
       "    }\n",
       "\n",
       "    .dataframe tbody tr th {\n",
       "        vertical-align: top;\n",
       "    }\n",
       "\n",
       "    .dataframe thead th {\n",
       "        text-align: right;\n",
       "    }\n",
       "</style>\n",
       "<table border=\"1\" class=\"dataframe\">\n",
       "  <thead>\n",
       "    <tr style=\"text-align: right;\">\n",
       "      <th></th>\n",
       "      <th>app_id</th>\n",
       "      <th>user_state</th>\n",
       "      <th>user_isp</th>\n",
       "      <th>device_maker</th>\n",
       "      <th>device_model</th>\n",
       "      <th>device_osv</th>\n",
       "      <th>marketplace</th>\n",
       "    </tr>\n",
       "  </thead>\n",
       "  <tbody>\n",
       "    <tr>\n",
       "      <th>count</th>\n",
       "      <td>3148828</td>\n",
       "      <td>3148828</td>\n",
       "      <td>3148828</td>\n",
       "      <td>3148828</td>\n",
       "      <td>3148828</td>\n",
       "      <td>3148828</td>\n",
       "      <td>3148828</td>\n",
       "    </tr>\n",
       "    <tr>\n",
       "      <th>unique</th>\n",
       "      <td>14869</td>\n",
       "      <td>51</td>\n",
       "      <td>3450</td>\n",
       "      <td>266</td>\n",
       "      <td>2343</td>\n",
       "      <td>20</td>\n",
       "      <td>1</td>\n",
       "    </tr>\n",
       "    <tr>\n",
       "      <th>top</th>\n",
       "      <td>com.banananadco.blackjack</td>\n",
       "      <td>TX</td>\n",
       "      <td>T-Mobile USA</td>\n",
       "      <td>missing</td>\n",
       "      <td>missing</td>\n",
       "      <td>7.0</td>\n",
       "      <td>chartboost</td>\n",
       "    </tr>\n",
       "    <tr>\n",
       "      <th>freq</th>\n",
       "      <td>54134</td>\n",
       "      <td>409365</td>\n",
       "      <td>737204</td>\n",
       "      <td>964004</td>\n",
       "      <td>963858</td>\n",
       "      <td>1083916</td>\n",
       "      <td>3148828</td>\n",
       "    </tr>\n",
       "  </tbody>\n",
       "</table>\n",
       "</div>"
      ],
      "text/plain": [
       "                           app_id user_state      user_isp device_maker  \\\n",
       "count                     3148828    3148828       3148828      3148828   \n",
       "unique                      14869         51          3450          266   \n",
       "top     com.banananadco.blackjack         TX  T-Mobile USA      missing   \n",
       "freq                        54134     409365        737204       964004   \n",
       "\n",
       "       device_model device_osv marketplace  \n",
       "count       3148828    3148828     3148828  \n",
       "unique         2343         20           1  \n",
       "top         missing        7.0  chartboost  \n",
       "freq         963858    1083916     3148828  "
      ]
     },
     "execution_count": 19,
     "metadata": {},
     "output_type": "execute_result"
    }
   ],
   "source": [
    "# Quick look at distributions of the object data\n",
    "pd.DataFrame(dataset.describe(include=['object', 'bool']))"
   ]
  },
  {
   "cell_type": "markdown",
   "metadata": {},
   "source": [
    "From this I can see that there a lot of unique values espcially in app_id, user_isp, device_model.\n",
    "\n",
    "Marketplace is worth noting as it only contains one catagory for every observation - won't affect the model\n",
    "\n",
    "Device_maker and device_model both have a missing value as their most common catagory. This will be kept and can become its own catagory in OneHotEncoding. Imputing using an observed most common value might cause too much bias in the data"
   ]
  },
  {
   "cell_type": "code",
   "execution_count": 3,
   "metadata": {},
   "outputs": [],
   "source": [
    "# Function to determine and visualize the proportion of clicks each catagory in each variable is responsible for \n",
    "def clickproportion(variable: str):\n",
    "    w = pd.crosstab(dataset[variable], dataset['click'])\n",
    "    z = (w[1]/len(dataset[dataset['click'] == True])).sort_values(ascending=False)\n",
    "    z = z.iloc[:15,]\n",
    "    plt.figure(figsize=(10,5))\n",
    "    chart = sns.barplot(z.index, z, alpha=0.9)\n",
    "    chart.set_xticklabels(chart.get_xticklabels(), rotation=45, horizontalalignment='right')\n",
    "    return z "
   ]
  },
  {
   "cell_type": "code",
   "execution_count": 5,
   "metadata": {},
   "outputs": [],
   "source": [
    "# Function to get an idea of distribution of each catagorical variable\n",
    "def distribution(variable: str):\n",
    "    x = pd.DataFrame(dataset[variable].value_counts()).sort_values(by = variable, ascending=False)  \n",
    "    y = x.iloc[:15,]\n",
    "    plt.figure(figsize=(10,5))\n",
    "    chart = sns.barplot(y.index, y[variable], alpha=0.9)\n",
    "    chart.set_xticklabels(chart.get_xticklabels(), rotation=45, horizontalalignment='right')\n",
    "    return y\n",
    "   "
   ]
  },
  {
   "cell_type": "code",
   "execution_count": 6,
   "metadata": {},
   "outputs": [
    {
     "data": {
      "text/html": [
       "<div>\n",
       "<style scoped>\n",
       "    .dataframe tbody tr th:only-of-type {\n",
       "        vertical-align: middle;\n",
       "    }\n",
       "\n",
       "    .dataframe tbody tr th {\n",
       "        vertical-align: top;\n",
       "    }\n",
       "\n",
       "    .dataframe thead th {\n",
       "        text-align: right;\n",
       "    }\n",
       "</style>\n",
       "<table border=\"1\" class=\"dataframe\">\n",
       "  <thead>\n",
       "    <tr style=\"text-align: right;\">\n",
       "      <th></th>\n",
       "      <th>app_id</th>\n",
       "    </tr>\n",
       "  </thead>\n",
       "  <tbody>\n",
       "    <tr>\n",
       "      <th>com.banananadco.blackjack</th>\n",
       "      <td>54134</td>\n",
       "    </tr>\n",
       "    <tr>\n",
       "      <th>com.kiloo.subwaysurf</th>\n",
       "      <td>53670</td>\n",
       "    </tr>\n",
       "    <tr>\n",
       "      <th>toy.blast.pop.cubes.puzzle</th>\n",
       "      <td>49726</td>\n",
       "    </tr>\n",
       "    <tr>\n",
       "      <th>com.blackcircleapps.halloweenbingo</th>\n",
       "      <td>49273</td>\n",
       "    </tr>\n",
       "    <tr>\n",
       "      <th>com.mobilityware.spider</th>\n",
       "      <td>44715</td>\n",
       "    </tr>\n",
       "    <tr>\n",
       "      <th>com.mobilityware.CrownSolitaire</th>\n",
       "      <td>44357</td>\n",
       "    </tr>\n",
       "    <tr>\n",
       "      <th>com.mobilityware.freecell</th>\n",
       "      <td>41566</td>\n",
       "    </tr>\n",
       "    <tr>\n",
       "      <th>com.RocketGames.ClassicSlots</th>\n",
       "      <td>39294</td>\n",
       "    </tr>\n",
       "    <tr>\n",
       "      <th>com.thumbspire.weedfirm2</th>\n",
       "      <td>34012</td>\n",
       "    </tr>\n",
       "    <tr>\n",
       "      <th>com.spacegame.basic3</th>\n",
       "      <td>28483</td>\n",
       "    </tr>\n",
       "    <tr>\n",
       "      <th>com.ketchapp.knifehit</th>\n",
       "      <td>27999</td>\n",
       "    </tr>\n",
       "    <tr>\n",
       "      <th>com.jg.spongeminds.preschooldemo</th>\n",
       "      <td>25725</td>\n",
       "    </tr>\n",
       "    <tr>\n",
       "      <th>com.mobilityware.PyramidFree</th>\n",
       "      <td>24780</td>\n",
       "    </tr>\n",
       "    <tr>\n",
       "      <th>com.zentertain.classicvegasslots</th>\n",
       "      <td>24589</td>\n",
       "    </tr>\n",
       "    <tr>\n",
       "      <th>com.scopely.wheeloffortune</th>\n",
       "      <td>22196</td>\n",
       "    </tr>\n",
       "  </tbody>\n",
       "</table>\n",
       "</div>"
      ],
      "text/plain": [
       "                                    app_id\n",
       "com.banananadco.blackjack            54134\n",
       "com.kiloo.subwaysurf                 53670\n",
       "toy.blast.pop.cubes.puzzle           49726\n",
       "com.blackcircleapps.halloweenbingo   49273\n",
       "com.mobilityware.spider              44715\n",
       "com.mobilityware.CrownSolitaire      44357\n",
       "com.mobilityware.freecell            41566\n",
       "com.RocketGames.ClassicSlots         39294\n",
       "com.thumbspire.weedfirm2             34012\n",
       "com.spacegame.basic3                 28483\n",
       "com.ketchapp.knifehit                27999\n",
       "com.jg.spongeminds.preschooldemo     25725\n",
       "com.mobilityware.PyramidFree         24780\n",
       "com.zentertain.classicvegasslots     24589\n",
       "com.scopely.wheeloffortune           22196"
      ]
     },
     "execution_count": 6,
     "metadata": {},
     "output_type": "execute_result"
    },
    {
     "data": {
      "image/png": "[encoded data removed]",
      "text/plain": [
       "<Figure size 720x360 with 1 Axes>"
      ]
     },
     "metadata": {
      "needs_background": "light"
     },
     "output_type": "display_data"
    }
   ],
   "source": [
    "# Distribution of app_id\n",
    "distribution('app_id')"
   ]
  },
  {
   "cell_type": "code",
   "execution_count": 4,
   "metadata": {},
   "outputs": [
    {
     "data": {
      "text/plain": [
       "app_id\n",
       "com.banananadco.blackjack                              0.026590\n",
       "com.jg.spongeminds.preschooldemo                       0.021327\n",
       "com.thumbspire.weedfirm2                               0.019883\n",
       "com.ketchapp.knifehit                                  0.019221\n",
       "toy.blast.pop.cubes.puzzle                             0.016632\n",
       "com.kiloo.subwaysurf                                   0.015896\n",
       "air.com.sublinet.tastytale                             0.015155\n",
       "com.gia.iloveftd                                       0.011501\n",
       "com.RocketGames.ClassicSlots                           0.010202\n",
       "com.RenownEntertainment.BallHopAE                      0.009311\n",
       "com.spacegame.basic3                                   0.008297\n",
       "com.mss.doublediamond                                  0.007378\n",
       "com.blackcircleapps.halloweenbingo                     0.006623\n",
       "com.avarmmg.net.drawandspin                            0.006215\n",
       "com.pixelbytesplay.pregnant.mom.and.baby.precaution    0.006201\n",
       "Name: 1, dtype: float64"
      ]
     },
     "execution_count": 4,
     "metadata": {},
     "output_type": "execute_result"
    },
    {
     "data": {
      "image/png": "[encoded data removed]",
      "text/plain": [
       "<Figure size 720x360 with 1 Axes>"
      ]
     },
     "metadata": {
      "needs_background": "light"
     },
     "output_type": "display_data"
    }
   ],
   "source": [
    "# Proportion of clicks for with app_id\n",
    "clickproportion('app_id')\n"
   ]
  },
  {
   "cell_type": "code",
   "execution_count": 7,
   "metadata": {},
   "outputs": [
    {
     "data": {
      "text/html": [
       "<div>\n",
       "<style scoped>\n",
       "    .dataframe tbody tr th:only-of-type {\n",
       "        vertical-align: middle;\n",
       "    }\n",
       "\n",
       "    .dataframe tbody tr th {\n",
       "        vertical-align: top;\n",
       "    }\n",
       "\n",
       "    .dataframe thead th {\n",
       "        text-align: right;\n",
       "    }\n",
       "</style>\n",
       "<table border=\"1\" class=\"dataframe\">\n",
       "  <thead>\n",
       "    <tr style=\"text-align: right;\">\n",
       "      <th></th>\n",
       "      <th>user_state</th>\n",
       "    </tr>\n",
       "  </thead>\n",
       "  <tbody>\n",
       "    <tr>\n",
       "      <th>TX</th>\n",
       "      <td>409365</td>\n",
       "    </tr>\n",
       "    <tr>\n",
       "      <th>CA</th>\n",
       "      <td>394602</td>\n",
       "    </tr>\n",
       "    <tr>\n",
       "      <th>FL</th>\n",
       "      <td>263207</td>\n",
       "    </tr>\n",
       "    <tr>\n",
       "      <th>IL</th>\n",
       "      <td>194379</td>\n",
       "    </tr>\n",
       "    <tr>\n",
       "      <th>NY</th>\n",
       "      <td>180546</td>\n",
       "    </tr>\n",
       "    <tr>\n",
       "      <th>GA</th>\n",
       "      <td>127141</td>\n",
       "    </tr>\n",
       "    <tr>\n",
       "      <th>MI</th>\n",
       "      <td>120948</td>\n",
       "    </tr>\n",
       "    <tr>\n",
       "      <th>NC</th>\n",
       "      <td>120590</td>\n",
       "    </tr>\n",
       "    <tr>\n",
       "      <th>OH</th>\n",
       "      <td>102463</td>\n",
       "    </tr>\n",
       "    <tr>\n",
       "      <th>PA</th>\n",
       "      <td>90165</td>\n",
       "    </tr>\n",
       "    <tr>\n",
       "      <th>WA</th>\n",
       "      <td>75322</td>\n",
       "    </tr>\n",
       "    <tr>\n",
       "      <th>TN</th>\n",
       "      <td>67034</td>\n",
       "    </tr>\n",
       "    <tr>\n",
       "      <th>MD</th>\n",
       "      <td>63728</td>\n",
       "    </tr>\n",
       "    <tr>\n",
       "      <th>SC</th>\n",
       "      <td>58502</td>\n",
       "    </tr>\n",
       "    <tr>\n",
       "      <th>IN</th>\n",
       "      <td>57051</td>\n",
       "    </tr>\n",
       "  </tbody>\n",
       "</table>\n",
       "</div>"
      ],
      "text/plain": [
       "    user_state\n",
       "TX      409365\n",
       "CA      394602\n",
       "FL      263207\n",
       "IL      194379\n",
       "NY      180546\n",
       "GA      127141\n",
       "MI      120948\n",
       "NC      120590\n",
       "OH      102463\n",
       "PA       90165\n",
       "WA       75322\n",
       "TN       67034\n",
       "MD       63728\n",
       "SC       58502\n",
       "IN       57051"
      ]
     },
     "execution_count": 7,
     "metadata": {},
     "output_type": "execute_result"
    },
    {
     "data": {
      "image/png": "[encoded data removed]",
      "text/plain": [
       "<Figure size 720x360 with 1 Axes>"
      ]
     },
     "metadata": {
      "needs_background": "light"
     },
     "output_type": "display_data"
    }
   ],
   "source": [
    "distribution('user_state')"
   ]
  },
  {
   "cell_type": "code",
   "execution_count": 8,
   "metadata": {},
   "outputs": [
    {
     "data": {
      "text/plain": [
       "user_state\n",
       "CA    0.129677\n",
       "TX    0.127566\n",
       "FL    0.085033\n",
       "IL    0.059949\n",
       "NY    0.058870\n",
       "GA    0.040704\n",
       "MI    0.039011\n",
       "NC    0.038495\n",
       "OH    0.032298\n",
       "PA    0.028466\n",
       "WA    0.023429\n",
       "TN    0.021768\n",
       "MD    0.020600\n",
       "SC    0.018832\n",
       "AZ    0.018110\n",
       "Name: 1, dtype: float64"
      ]
     },
     "execution_count": 8,
     "metadata": {},
     "output_type": "execute_result"
    },
    {
     "data": {
      "image/png": "[encoded data removed]",
      "text/plain": [
       "<Figure size 720x360 with 1 Axes>"
      ]
     },
     "metadata": {
      "needs_background": "light"
     },
     "output_type": "display_data"
    }
   ],
   "source": [
    "# proportion of 'user_state'\n",
    "clickproportion('user_state')\n"
   ]
  },
  {
   "cell_type": "code",
   "execution_count": 9,
   "metadata": {},
   "outputs": [
    {
     "data": {
      "text/html": [
       "<div>\n",
       "<style scoped>\n",
       "    .dataframe tbody tr th:only-of-type {\n",
       "        vertical-align: middle;\n",
       "    }\n",
       "\n",
       "    .dataframe tbody tr th {\n",
       "        vertical-align: top;\n",
       "    }\n",
       "\n",
       "    .dataframe thead th {\n",
       "        text-align: right;\n",
       "    }\n",
       "</style>\n",
       "<table border=\"1\" class=\"dataframe\">\n",
       "  <thead>\n",
       "    <tr style=\"text-align: right;\">\n",
       "      <th></th>\n",
       "      <th>user_isp</th>\n",
       "    </tr>\n",
       "  </thead>\n",
       "  <tbody>\n",
       "    <tr>\n",
       "      <th>T-Mobile USA</th>\n",
       "      <td>737204</td>\n",
       "    </tr>\n",
       "    <tr>\n",
       "      <th>Spectrum</th>\n",
       "      <td>382182</td>\n",
       "    </tr>\n",
       "    <tr>\n",
       "      <th>Comcast Cable</th>\n",
       "      <td>342711</td>\n",
       "    </tr>\n",
       "    <tr>\n",
       "      <th>AT&amp;T Wireless</th>\n",
       "      <td>330291</td>\n",
       "    </tr>\n",
       "    <tr>\n",
       "      <th>Sprint PCS</th>\n",
       "      <td>265010</td>\n",
       "    </tr>\n",
       "    <tr>\n",
       "      <th>Verizon Wireless</th>\n",
       "      <td>263017</td>\n",
       "    </tr>\n",
       "    <tr>\n",
       "      <th>AT&amp;T U-verse</th>\n",
       "      <td>185588</td>\n",
       "    </tr>\n",
       "    <tr>\n",
       "      <th>Cox Communications</th>\n",
       "      <td>77582</td>\n",
       "    </tr>\n",
       "    <tr>\n",
       "      <th>CenturyLink</th>\n",
       "      <td>73506</td>\n",
       "    </tr>\n",
       "    <tr>\n",
       "      <th>Verizon Fios</th>\n",
       "      <td>47010</td>\n",
       "    </tr>\n",
       "    <tr>\n",
       "      <th>Frontier Communications</th>\n",
       "      <td>39584</td>\n",
       "    </tr>\n",
       "    <tr>\n",
       "      <th>Optimum Online</th>\n",
       "      <td>30676</td>\n",
       "    </tr>\n",
       "    <tr>\n",
       "      <th>Suddenlink Communications</th>\n",
       "      <td>24758</td>\n",
       "    </tr>\n",
       "    <tr>\n",
       "      <th>AT&amp;T Internet Services</th>\n",
       "      <td>24162</td>\n",
       "    </tr>\n",
       "    <tr>\n",
       "      <th>Wireless Data Service Provider Corporation</th>\n",
       "      <td>21686</td>\n",
       "    </tr>\n",
       "  </tbody>\n",
       "</table>\n",
       "</div>"
      ],
      "text/plain": [
       "                                            user_isp\n",
       "T-Mobile USA                                  737204\n",
       "Spectrum                                      382182\n",
       "Comcast Cable                                 342711\n",
       "AT&T Wireless                                 330291\n",
       "Sprint PCS                                    265010\n",
       "Verizon Wireless                              263017\n",
       "AT&T U-verse                                  185588\n",
       "Cox Communications                             77582\n",
       "CenturyLink                                    73506\n",
       "Verizon Fios                                   47010\n",
       "Frontier Communications                        39584\n",
       "Optimum Online                                 30676\n",
       "Suddenlink Communications                      24758\n",
       "AT&T Internet Services                         24162\n",
       "Wireless Data Service Provider Corporation     21686"
      ]
     },
     "execution_count": 9,
     "metadata": {},
     "output_type": "execute_result"
    },
    {
     "data": {
      "image/png": "[encoded data removed]",
      "text/plain": [
       "<Figure size 720x360 with 1 Axes>"
      ]
     },
     "metadata": {
      "needs_background": "light"
     },
     "output_type": "display_data"
    }
   ],
   "source": [
    "distribution('user_isp')"
   ]
  },
  {
   "cell_type": "code",
   "execution_count": 10,
   "metadata": {},
   "outputs": [
    {
     "data": {
      "text/plain": [
       "user_isp\n",
       "T-Mobile USA                 0.236952\n",
       "Spectrum                     0.133772\n",
       "Comcast Cable                0.123002\n",
       "AT&T Wireless                0.090737\n",
       "Sprint PCS                   0.078326\n",
       "Verizon Wireless             0.073893\n",
       "AT&T U-verse                 0.063893\n",
       "Cox Communications           0.027256\n",
       "CenturyLink                  0.023494\n",
       "Verizon Fios                 0.016257\n",
       "Frontier Communications      0.012880\n",
       "Optimum Online               0.011398\n",
       "Suddenlink Communications    0.008387\n",
       "AT&T Internet Services       0.007627\n",
       "Windstream Communications    0.006285\n",
       "Name: 1, dtype: float64"
      ]
     },
     "execution_count": 10,
     "metadata": {},
     "output_type": "execute_result"
    },
    {
     "data": {
      "image/png": "[encoded data removed]",
      "text/plain": [
       "<Figure size 720x360 with 1 Axes>"
      ]
     },
     "metadata": {
      "needs_background": "light"
     },
     "output_type": "display_data"
    }
   ],
   "source": [
    "clickproportion('user_isp')\n"
   ]
  },
  {
   "cell_type": "code",
   "execution_count": 11,
   "metadata": {},
   "outputs": [
    {
     "data": {
      "text/html": [
       "<div>\n",
       "<style scoped>\n",
       "    .dataframe tbody tr th:only-of-type {\n",
       "        vertical-align: middle;\n",
       "    }\n",
       "\n",
       "    .dataframe tbody tr th {\n",
       "        vertical-align: top;\n",
       "    }\n",
       "\n",
       "    .dataframe thead th {\n",
       "        text-align: right;\n",
       "    }\n",
       "</style>\n",
       "<table border=\"1\" class=\"dataframe\">\n",
       "  <thead>\n",
       "    <tr style=\"text-align: right;\">\n",
       "      <th></th>\n",
       "      <th>device_maker</th>\n",
       "    </tr>\n",
       "  </thead>\n",
       "  <tbody>\n",
       "    <tr>\n",
       "      <th>Samsung</th>\n",
       "      <td>863542</td>\n",
       "    </tr>\n",
       "    <tr>\n",
       "      <th>LG</th>\n",
       "      <td>657259</td>\n",
       "    </tr>\n",
       "    <tr>\n",
       "      <th>Motorola</th>\n",
       "      <td>224631</td>\n",
       "    </tr>\n",
       "    <tr>\n",
       "      <th>ZTE</th>\n",
       "      <td>186605</td>\n",
       "    </tr>\n",
       "    <tr>\n",
       "      <th>ALCATEL</th>\n",
       "      <td>55049</td>\n",
       "    </tr>\n",
       "    <tr>\n",
       "      <th>HTC</th>\n",
       "      <td>27495</td>\n",
       "    </tr>\n",
       "    <tr>\n",
       "      <th>Google</th>\n",
       "      <td>24529</td>\n",
       "    </tr>\n",
       "    <tr>\n",
       "      <th>T-Mobile</th>\n",
       "      <td>21506</td>\n",
       "    </tr>\n",
       "    <tr>\n",
       "      <th>Coolpad</th>\n",
       "      <td>18374</td>\n",
       "    </tr>\n",
       "    <tr>\n",
       "      <th>ALCATEL ONE TOUCH</th>\n",
       "      <td>17426</td>\n",
       "    </tr>\n",
       "    <tr>\n",
       "      <th>Huawei</th>\n",
       "      <td>16591</td>\n",
       "    </tr>\n",
       "    <tr>\n",
       "      <th>Asus</th>\n",
       "      <td>11167</td>\n",
       "    </tr>\n",
       "    <tr>\n",
       "      <th>ANS</th>\n",
       "      <td>7142</td>\n",
       "    </tr>\n",
       "    <tr>\n",
       "      <th>RCA</th>\n",
       "      <td>6146</td>\n",
       "    </tr>\n",
       "    <tr>\n",
       "      <th>BLU</th>\n",
       "      <td>5083</td>\n",
       "    </tr>\n",
       "  </tbody>\n",
       "</table>\n",
       "</div>"
      ],
      "text/plain": [
       "                   device_maker\n",
       "Samsung                  863542\n",
       "LG                       657259\n",
       "Motorola                 224631\n",
       "ZTE                      186605\n",
       "ALCATEL                   55049\n",
       "HTC                       27495\n",
       "Google                    24529\n",
       "T-Mobile                  21506\n",
       "Coolpad                   18374\n",
       "ALCATEL ONE TOUCH         17426\n",
       "Huawei                    16591\n",
       "Asus                      11167\n",
       "ANS                        7142\n",
       "RCA                        6146\n",
       "BLU                        5083"
      ]
     },
     "execution_count": 11,
     "metadata": {},
     "output_type": "execute_result"
    },
    {
     "data": {
      "image/png": "[encoded data removed]",
      "text/plain": [
       "<Figure size 720x360 with 1 Axes>"
      ]
     },
     "metadata": {
      "needs_background": "light"
     },
     "output_type": "display_data"
    }
   ],
   "source": [
    "distribution('device_maker')"
   ]
  },
  {
   "cell_type": "code",
   "execution_count": 12,
   "metadata": {},
   "outputs": [
    {
     "data": {
      "text/plain": [
       "device_maker\n",
       "LG                   0.266061\n",
       "Samsung              0.238191\n",
       "Motorola             0.088720\n",
       "ZTE                  0.045089\n",
       "ALCATEL              0.018157\n",
       "Google               0.010647\n",
       "ALCATEL ONE TOUCH    0.008175\n",
       "HTC                  0.008161\n",
       "T-Mobile             0.007631\n",
       "Huawei               0.006735\n",
       "Asus                 0.004747\n",
       "ANS                  0.004409\n",
       "RCA                  0.004071\n",
       "Coolpad              0.004006\n",
       "Verizon              0.003978\n",
       "Name: 1, dtype: float64"
      ]
     },
     "execution_count": 12,
     "metadata": {},
     "output_type": "execute_result"
    },
    {
     "data": {
      "image/png": "[encoded data removed]",
      "text/plain": [
       "<Figure size 720x360 with 1 Axes>"
      ]
     },
     "metadata": {
      "needs_background": "light"
     },
     "output_type": "display_data"
    }
   ],
   "source": [
    "clickproportion('device_maker')\n"
   ]
  },
  {
   "cell_type": "code",
   "execution_count": 13,
   "metadata": {},
   "outputs": [
    {
     "data": {
      "text/html": [
       "<div>\n",
       "<style scoped>\n",
       "    .dataframe tbody tr th:only-of-type {\n",
       "        vertical-align: middle;\n",
       "    }\n",
       "\n",
       "    .dataframe tbody tr th {\n",
       "        vertical-align: top;\n",
       "    }\n",
       "\n",
       "    .dataframe thead th {\n",
       "        text-align: right;\n",
       "    }\n",
       "</style>\n",
       "<table border=\"1\" class=\"dataframe\">\n",
       "  <thead>\n",
       "    <tr style=\"text-align: right;\">\n",
       "      <th></th>\n",
       "      <th>device_model</th>\n",
       "    </tr>\n",
       "  </thead>\n",
       "  <tbody>\n",
       "    <tr>\n",
       "      <th>LM-X210(G)</th>\n",
       "      <td>110596</td>\n",
       "    </tr>\n",
       "    <tr>\n",
       "      <th>SM-J327T1</th>\n",
       "      <td>103704</td>\n",
       "    </tr>\n",
       "    <tr>\n",
       "      <th>Moto E4</th>\n",
       "      <td>88164</td>\n",
       "    </tr>\n",
       "    <tr>\n",
       "      <th>MP260</th>\n",
       "      <td>78291</td>\n",
       "    </tr>\n",
       "    <tr>\n",
       "      <th>MS210</th>\n",
       "      <td>45640</td>\n",
       "    </tr>\n",
       "    <tr>\n",
       "      <th>SM-G955U</th>\n",
       "      <td>39648</td>\n",
       "    </tr>\n",
       "    <tr>\n",
       "      <th>SM-G950U</th>\n",
       "      <td>33207</td>\n",
       "    </tr>\n",
       "    <tr>\n",
       "      <th>SP200</th>\n",
       "      <td>32685</td>\n",
       "    </tr>\n",
       "    <tr>\n",
       "      <th>Z982</th>\n",
       "      <td>28085</td>\n",
       "    </tr>\n",
       "    <tr>\n",
       "      <th>LS777</th>\n",
       "      <td>27577</td>\n",
       "    </tr>\n",
       "    <tr>\n",
       "      <th>SM-S327VL</th>\n",
       "      <td>26425</td>\n",
       "    </tr>\n",
       "    <tr>\n",
       "      <th>SM-J700T1</th>\n",
       "      <td>25007</td>\n",
       "    </tr>\n",
       "    <tr>\n",
       "      <th>M153</th>\n",
       "      <td>24411</td>\n",
       "    </tr>\n",
       "    <tr>\n",
       "      <th>LS676</th>\n",
       "      <td>22842</td>\n",
       "    </tr>\n",
       "    <tr>\n",
       "      <th>E Play (5th Gen.)</th>\n",
       "      <td>22415</td>\n",
       "    </tr>\n",
       "  </tbody>\n",
       "</table>\n",
       "</div>"
      ],
      "text/plain": [
       "                   device_model\n",
       "LM-X210(G)               110596\n",
       "SM-J327T1                103704\n",
       "Moto E4                   88164\n",
       "MP260                     78291\n",
       "MS210                     45640\n",
       "SM-G955U                  39648\n",
       "SM-G950U                  33207\n",
       "SP200                     32685\n",
       "Z982                      28085\n",
       "LS777                     27577\n",
       "SM-S327VL                 26425\n",
       "SM-J700T1                 25007\n",
       "M153                      24411\n",
       "LS676                     22842\n",
       "E Play (5th Gen.)         22415"
      ]
     },
     "execution_count": 13,
     "metadata": {},
     "output_type": "execute_result"
    },
    {
     "data": {
      "image/png": "[encoded data removed]",
      "text/plain": [
       "<Figure size 720x360 with 1 Axes>"
      ]
     },
     "metadata": {
      "needs_background": "light"
     },
     "output_type": "display_data"
    }
   ],
   "source": [
    "distribution('device_model')"
   ]
  },
  {
   "cell_type": "code",
   "execution_count": 14,
   "metadata": {},
   "outputs": [
    {
     "data": {
      "text/plain": [
       "device_model\n",
       "LM-X210(G)           0.040441\n",
       "Moto E4              0.039850\n",
       "MP260                0.035586\n",
       "SM-J327T1            0.027294\n",
       "MS210                0.021084\n",
       "SM-G955U             0.012073\n",
       "LS777                0.011562\n",
       "SP200                0.011004\n",
       "M153                 0.009859\n",
       "LS676                0.009189\n",
       "MP450                0.008912\n",
       "E Play (5th Gen.)    0.008241\n",
       "SM-G950U             0.007716\n",
       "Z982                 0.007458\n",
       "SM-S327VL            0.007336\n",
       "Name: 1, dtype: float64"
      ]
     },
     "execution_count": 14,
     "metadata": {},
     "output_type": "execute_result"
    },
    {
     "data": {
      "image/png": "[encoded data removed]",
      "text/plain": [
       "<Figure size 720x360 with 1 Axes>"
      ]
     },
     "metadata": {
      "needs_background": "light"
     },
     "output_type": "display_data"
    }
   ],
   "source": [
    "clickproportion('device_model')\n"
   ]
  },
  {
   "cell_type": "code",
   "execution_count": 15,
   "metadata": {},
   "outputs": [
    {
     "data": {
      "text/html": [
       "<div>\n",
       "<style scoped>\n",
       "    .dataframe tbody tr th:only-of-type {\n",
       "        vertical-align: middle;\n",
       "    }\n",
       "\n",
       "    .dataframe tbody tr th {\n",
       "        vertical-align: top;\n",
       "    }\n",
       "\n",
       "    .dataframe thead th {\n",
       "        text-align: right;\n",
       "    }\n",
       "</style>\n",
       "<table border=\"1\" class=\"dataframe\">\n",
       "  <thead>\n",
       "    <tr style=\"text-align: right;\">\n",
       "      <th></th>\n",
       "      <th>device_osv</th>\n",
       "    </tr>\n",
       "  </thead>\n",
       "  <tbody>\n",
       "    <tr>\n",
       "      <th>7.0</th>\n",
       "      <td>1083916</td>\n",
       "    </tr>\n",
       "    <tr>\n",
       "      <th>8.0.0</th>\n",
       "      <td>596679</td>\n",
       "    </tr>\n",
       "    <tr>\n",
       "      <th>7.1.1</th>\n",
       "      <td>557710</td>\n",
       "    </tr>\n",
       "    <tr>\n",
       "      <th>6.0.1</th>\n",
       "      <td>535421</td>\n",
       "    </tr>\n",
       "    <tr>\n",
       "      <th>7.1.2</th>\n",
       "      <td>201139</td>\n",
       "    </tr>\n",
       "    <tr>\n",
       "      <th>8.1.0</th>\n",
       "      <td>88852</td>\n",
       "    </tr>\n",
       "    <tr>\n",
       "      <th>6.0</th>\n",
       "      <td>64873</td>\n",
       "    </tr>\n",
       "    <tr>\n",
       "      <th>9</th>\n",
       "      <td>20121</td>\n",
       "    </tr>\n",
       "    <tr>\n",
       "      <th>7.1</th>\n",
       "      <td>59</td>\n",
       "    </tr>\n",
       "    <tr>\n",
       "      <th>P</th>\n",
       "      <td>20</td>\n",
       "    </tr>\n",
       "    <tr>\n",
       "      <th>8.0</th>\n",
       "      <td>12</td>\n",
       "    </tr>\n",
       "    <tr>\n",
       "      <th>CONTIXO-LA703-20180915-v1.0</th>\n",
       "      <td>7</td>\n",
       "    </tr>\n",
       "    <tr>\n",
       "      <th>6.1</th>\n",
       "      <td>5</td>\n",
       "    </tr>\n",
       "    <tr>\n",
       "      <th>M</th>\n",
       "      <td>5</td>\n",
       "    </tr>\n",
       "    <tr>\n",
       "      <th>unknown</th>\n",
       "      <td>2</td>\n",
       "    </tr>\n",
       "  </tbody>\n",
       "</table>\n",
       "</div>"
      ],
      "text/plain": [
       "                             device_osv\n",
       "7.0                             1083916\n",
       "8.0.0                            596679\n",
       "7.1.1                            557710\n",
       "6.0.1                            535421\n",
       "7.1.2                            201139\n",
       "8.1.0                             88852\n",
       "6.0                               64873\n",
       "9                                 20121\n",
       "7.1                                  59\n",
       "P                                    20\n",
       "8.0                                  12\n",
       "CONTIXO-LA703-20180915-v1.0           7\n",
       "6.1                                   5\n",
       "M                                     5\n",
       "unknown                               2"
      ]
     },
     "execution_count": 15,
     "metadata": {},
     "output_type": "execute_result"
    },
    {
     "data": {
      "image/png": "[encoded data removed]",
      "text/plain": [
       "<Figure size 720x360 with 1 Axes>"
      ]
     },
     "metadata": {
      "needs_background": "light"
     },
     "output_type": "display_data"
    }
   ],
   "source": [
    "distribution('device_osv')"
   ]
  },
  {
   "cell_type": "code",
   "execution_count": 16,
   "metadata": {},
   "outputs": [
    {
     "data": {
      "text/plain": [
       "device_osv\n",
       "7.0                            0.373243\n",
       "7.1.1                          0.183711\n",
       "6.0.1                          0.161656\n",
       "8.0.0                          0.146070\n",
       "7.1.2                          0.072486\n",
       "6.0                            0.027983\n",
       "8.1.0                          0.026914\n",
       "9                              0.007880\n",
       "P                              0.000023\n",
       "7.1                            0.000023\n",
       "M                              0.000005\n",
       "CONTIXO-LA703-20180915-v1.0    0.000005\n",
       "5.0 by mrkindaiji              0.000000\n",
       "6.1                            0.000000\n",
       "unknown                        0.000000\n",
       "Name: 1, dtype: float64"
      ]
     },
     "execution_count": 16,
     "metadata": {},
     "output_type": "execute_result"
    },
    {
     "data": {
      "image/png": "[encoded data removed]",
      "text/plain": [
       "<Figure size 720x360 with 1 Axes>"
      ]
     },
     "metadata": {
      "needs_background": "light"
     },
     "output_type": "display_data"
    }
   ],
   "source": [
    "clickproportion('device_osv')"
   ]
  },
  {
   "cell_type": "markdown",
   "metadata": {},
   "source": [
    "From the looking at the distributions and the proportions each catogory in each variable is responsible for, there does not appear to be catagories\n",
    "that increase the number of clicks. For all these catagories increases\n",
    "in the percentage of the number of clicks is proportional to fraction of the dataset each catagory takes up. It is predicted that the most important features are those that are responsible for large proportions of clicks such as Texas and Calfornia from user_state and T-Mobile USA from user_isp."
   ]
  },
  {
   "cell_type": "markdown",
   "metadata": {},
   "source": [
    "An ExtraTrees Classifier will be used to determine variable importance"
   ]
  },
  {
   "cell_type": "code",
   "execution_count": 34,
   "metadata": {},
   "outputs": [],
   "source": [
    "# Given the size of the dataset without reducing catagorical variables in order for OneHotEncoder to work the dataset needs to be reduced\n",
    "\n",
    "# Keep .2% of most recent fraction of the dataset\n",
    "x = len(dataset.index) - int(round(len(dataset.index)*.002,0))\n",
    "X = dataset.iloc[x:, :-1]  #independent columns\n",
    "y = dataset.iloc[x:,-1]"
   ]
  },
  {
   "cell_type": "code",
   "execution_count": 35,
   "metadata": {},
   "outputs": [],
   "source": [
    "# Encode catogirical data using OneHotEncoder\n",
    "obj_data = (dataset.dtypes == 'object')\n",
    "object_cols = list(obj_data[obj_data].index)\n",
    "OH_encoder = OneHotEncoder(handle_unknown='ignore', sparse=False)\n",
    "OH_encoder.fit(X[object_cols])\n",
    "x_cat = OH_encoder.transform(X[object_cols])\n",
    "\n",
    "x_cat = pd.DataFrame(x_cat)\n",
    "x_cat.columns = OH_encoder.get_feature_names()\n",
    "x_cat.index = X.index\n",
    "X = X.drop(object_cols, axis=1)\n",
    "X = pd.concat([X, x_cat], axis=1)"
   ]
  },
  {
   "cell_type": "code",
   "execution_count": 38,
   "metadata": {},
   "outputs": [],
   "source": [
    "# Use ExtraTrees Classifier to determine most important features\n",
    "regressor = ExtraTreesClassifier()\n",
    "regressor.fit(X,y)\n",
    "fe = regressor.feature_importances_\n",
    "feat_importances = pd.Series(regressor.feature_importances_, index=X.columns).sort_values(ascending=False)\n"
   ]
  },
  {
   "cell_type": "code",
   "execution_count": 39,
   "metadata": {},
   "outputs": [
    {
     "data": {
      "text/plain": [
       "utc_time               0.192487\n",
       "device_height          0.031507\n",
       "device_width           0.029660\n",
       "x5_7.0                 0.012396\n",
       "x2_T-Mobile USA        0.012225\n",
       "x1_TX                  0.011027\n",
       "x2_Spectrum            0.010127\n",
       "x2_Comcast Cable       0.009700\n",
       "x1_CA                  0.009494\n",
       "x1_FL                  0.009240\n",
       "x5_6.0.1               0.008674\n",
       "x5_7.1.1               0.008259\n",
       "x2_AT&T Wireless       0.007487\n",
       "x5_8.0.0               0.007431\n",
       "x1_IL                  0.007293\n",
       "x2_Sprint PCS          0.007187\n",
       "x2_Verizon Wireless    0.007076\n",
       "x2_AT&T U-verse        0.006884\n",
       "x1_NY                  0.006046\n",
       "x1_MI                  0.005516\n",
       "dtype: float64"
      ]
     },
     "execution_count": 39,
     "metadata": {},
     "output_type": "execute_result"
    }
   ],
   "source": [
    "# Displaying top 15 most important variables\n",
    "feat_importances.head(20)"
   ]
  },
  {
   "cell_type": "code",
   "execution_count": 40,
   "metadata": {},
   "outputs": [
    {
     "data": {
      "text/plain": [
       "x4_SM-N920C                                                  2.772102e-09\n",
       "x2_Boston University                                         4.530148e-10\n",
       "x2_Sierra Tel Internet                                       0.000000e+00\n",
       "x0_com.fun.crazy.chinese.food.cafe                           0.000000e+00\n",
       "x2_Secom                                                     0.000000e+00\n",
       "x0_com.Mobogames.WarSpirit                                   0.000000e+00\n",
       "x0_com.fag.cage.revolution.wrestling.world.wrestling.game    0.000000e+00\n",
       "x4_SM-A720F                                                  0.000000e+00\n",
       "x0_com.bitflash.gems.story                                   0.000000e+00\n",
       "x0_com.appymint.safepuzzles                                  0.000000e+00\n",
       "x0_com.givefivegames.kidspuzzles                             0.000000e+00\n",
       "x4_SM-J710F                                                  0.000000e+00\n",
       "x2_CC Communications                                         0.000000e+00\n",
       "x0_com.dfz.car.factory.maker.mechanic.car.builder.games      0.000000e+00\n",
       "x6_chartboost                                                0.000000e+00\n",
       "dtype: float64"
      ]
     },
     "execution_count": 40,
     "metadata": {},
     "output_type": "execute_result"
    }
   ],
   "source": [
    "# Displaying top 15 least important variables\n",
    "feat_importances.tail(15)"
   ]
  },
  {
   "cell_type": "markdown",
   "metadata": {},
   "source": [
    "Keys for x0 to x6:\n",
    "- x0 - app_id \n",
    "- x1 - user_state \n",
    "- x2 - user_isp\n",
    "- x3 - device_maker\n",
    "- x4 - device_model\n",
    "- x5 - device_osv\n",
    "- x6 - marketplace"
   ]
  },
  {
   "cell_type": "markdown",
   "metadata": {},
   "source": [
    "Discussion:\n",
    "1. Marketplace has zero importance because it is a constant. \n",
    "2. Catagories is each variable that have high frequency and happen to also to contain large fractions of the user clicks are ranked as important. Examples include 7.0 from device_osv and T-mobile USA from user_isp.\n",
    "3. Device_width is ranked more important than device_height as predicted, however they both rank higher than all the catagorical variables.This is not surprising since device_width and device_height are entire catgories which span across all observations while each catagory under x0 to x6 span at most across 30% of the observations.\n",
    "4. utc_time variable is most important. Boxplots and median suggested that later times in series involved more clicks - there could be seasonal effects in clicks.\n",
    "5. Top 20 most important catagorical variable only contain catagories from user_state, user_isp and device_osv. It is surprising that catagories from device_model and device_maker with proportions of clicks up to 30% did not make the top 20 list."
   ]
  },
  {
   "cell_type": "markdown",
   "metadata": {},
   "source": [
    "## 2. Feature Engineering"
   ]
  },
  {
   "cell_type": "markdown",
   "metadata": {},
   "source": [
    "#### Reduce dimensions of catagorical variables"
   ]
  },
  {
   "cell_type": "code",
   "execution_count": 41,
   "metadata": {},
   "outputs": [],
   "source": [
    "# Function that finds top 4 catagories with the highest proportion of clicks and then replaces all other catagories in that variable as \"other\"\n",
    "# This function reduces number of catagories in each variable\n",
    "def relabeler(variable: str):\n",
    "    w = pd.crosstab(dataset[variable], dataset['click'])\n",
    "    z = (w[1]/len(dataset[dataset['click'] == True])).sort_values(ascending=False)\n",
    "    choices = list(z.index)[:4]\n",
    "    conditions = []\n",
    "    for i in choices:\n",
    "        x = dataset[variable] == i\n",
    "        conditions.append(x)\n",
    "    dataset[variable] = np.select(conditions, choices, default='Else')"
   ]
  },
  {
   "cell_type": "code",
   "execution_count": 42,
   "metadata": {},
   "outputs": [],
   "source": [
    "# Re-catagorize the existing catagorigal variables to make it so they each have a maximum of 5 catagories using relabeler\n",
    "\n",
    "#First remove marketplace from the list of object columns\n",
    "obj_data = (dataset.dtypes == 'object')\n",
    "object_cols = list(obj_data[obj_data].index)\n",
    "object_cols.remove('marketplace')\n",
    "\n",
    "# Use relabeler to reduce number of catagories\n",
    "for i in object_cols:\n",
    "    relabeler(i)"
   ]
  },
  {
   "cell_type": "code",
   "execution_count": 43,
   "metadata": {},
   "outputs": [],
   "source": [
    "# Remove marketplace column\n",
    "dataset = dataset.drop(['marketplace'], axis=1)"
   ]
  },
  {
   "cell_type": "code",
   "execution_count": 44,
   "metadata": {},
   "outputs": [
    {
     "data": {
      "text/html": [
       "<div>\n",
       "<style scoped>\n",
       "    .dataframe tbody tr th:only-of-type {\n",
       "        vertical-align: middle;\n",
       "    }\n",
       "\n",
       "    .dataframe tbody tr th {\n",
       "        vertical-align: top;\n",
       "    }\n",
       "\n",
       "    .dataframe thead th {\n",
       "        text-align: right;\n",
       "    }\n",
       "</style>\n",
       "<table border=\"1\" class=\"dataframe\">\n",
       "  <thead>\n",
       "    <tr style=\"text-align: right;\">\n",
       "      <th></th>\n",
       "      <th>app_id</th>\n",
       "      <th>user_state</th>\n",
       "      <th>user_isp</th>\n",
       "      <th>device_maker</th>\n",
       "      <th>device_model</th>\n",
       "      <th>device_osv</th>\n",
       "    </tr>\n",
       "  </thead>\n",
       "  <tbody>\n",
       "    <tr>\n",
       "      <th>count</th>\n",
       "      <td>3148828</td>\n",
       "      <td>3148828</td>\n",
       "      <td>3148828</td>\n",
       "      <td>3148828</td>\n",
       "      <td>3148828</td>\n",
       "      <td>3148828</td>\n",
       "    </tr>\n",
       "    <tr>\n",
       "      <th>unique</th>\n",
       "      <td>5</td>\n",
       "      <td>5</td>\n",
       "      <td>5</td>\n",
       "      <td>5</td>\n",
       "      <td>5</td>\n",
       "      <td>5</td>\n",
       "    </tr>\n",
       "    <tr>\n",
       "      <th>top</th>\n",
       "      <td>Else</td>\n",
       "      <td>Else</td>\n",
       "      <td>Else</td>\n",
       "      <td>missing</td>\n",
       "      <td>Else</td>\n",
       "      <td>7.0</td>\n",
       "    </tr>\n",
       "    <tr>\n",
       "      <th>freq</th>\n",
       "      <td>3006958</td>\n",
       "      <td>1887275</td>\n",
       "      <td>1356440</td>\n",
       "      <td>964004</td>\n",
       "      <td>1907919</td>\n",
       "      <td>1083916</td>\n",
       "    </tr>\n",
       "  </tbody>\n",
       "</table>\n",
       "</div>"
      ],
      "text/plain": [
       "         app_id user_state user_isp device_maker device_model device_osv\n",
       "count   3148828    3148828  3148828      3148828      3148828    3148828\n",
       "unique        5          5        5            5            5          5\n",
       "top        Else       Else     Else      missing         Else        7.0\n",
       "freq    3006958    1887275  1356440       964004      1907919    1083916"
      ]
     },
     "execution_count": 44,
     "metadata": {},
     "output_type": "execute_result"
    }
   ],
   "source": [
    "# Inspect new catagories\n",
    "pd.DataFrame(dataset.describe(include=['object', 'bool']))"
   ]
  },
  {
   "cell_type": "markdown",
   "metadata": {},
   "source": [
    "#### Working with utc_time data"
   ]
  },
  {
   "cell_type": "code",
   "execution_count": 45,
   "metadata": {},
   "outputs": [],
   "source": [
    "# Extract the day of the week and the month from utc_time\n",
    "x= datetime.fromtimestamp(float(str(dataset.iloc[0,0])[0:10]))\n",
    "dataset['utc_time'] = dataset['utc_time'].apply(lambda x:datetime.fromtimestamp(float(str(x)[0:10])))\n",
    "dataset['month'] = dataset['utc_time'].apply(lambda x: x.strftime(\"%B\"))\n",
    "dataset['day'] = dataset['utc_time'].apply(lambda x: x.strftime(\"%A\"))"
   ]
  },
  {
   "cell_type": "code",
   "execution_count": 46,
   "metadata": {},
   "outputs": [
    {
     "data": {
      "text/html": [
       "<div>\n",
       "<style scoped>\n",
       "    .dataframe tbody tr th:only-of-type {\n",
       "        vertical-align: middle;\n",
       "    }\n",
       "\n",
       "    .dataframe tbody tr th {\n",
       "        vertical-align: top;\n",
       "    }\n",
       "\n",
       "    .dataframe thead th {\n",
       "        text-align: right;\n",
       "    }\n",
       "</style>\n",
       "<table border=\"1\" class=\"dataframe\">\n",
       "  <thead>\n",
       "    <tr style=\"text-align: right;\">\n",
       "      <th></th>\n",
       "      <th>utc_time</th>\n",
       "      <th>app_id</th>\n",
       "      <th>user_state</th>\n",
       "      <th>user_isp</th>\n",
       "      <th>device_maker</th>\n",
       "      <th>device_model</th>\n",
       "      <th>device_osv</th>\n",
       "      <th>device_height</th>\n",
       "      <th>device_width</th>\n",
       "      <th>click</th>\n",
       "      <th>month</th>\n",
       "      <th>day</th>\n",
       "    </tr>\n",
       "    <tr>\n",
       "      <th>bidid</th>\n",
       "      <th></th>\n",
       "      <th></th>\n",
       "      <th></th>\n",
       "      <th></th>\n",
       "      <th></th>\n",
       "      <th></th>\n",
       "      <th></th>\n",
       "      <th></th>\n",
       "      <th></th>\n",
       "      <th></th>\n",
       "      <th></th>\n",
       "      <th></th>\n",
       "    </tr>\n",
       "  </thead>\n",
       "  <tbody>\n",
       "    <tr>\n",
       "      <th>87b0108c-6e9f-4783-8b80-8dd5aa3529a8</th>\n",
       "      <td>2018-09-09 01:05:31</td>\n",
       "      <td>Else</td>\n",
       "      <td>TX</td>\n",
       "      <td>AT&amp;T Wireless</td>\n",
       "      <td>missing</td>\n",
       "      <td>missing</td>\n",
       "      <td>7.0</td>\n",
       "      <td>720</td>\n",
       "      <td>1280</td>\n",
       "      <td>0</td>\n",
       "      <td>September</td>\n",
       "      <td>Sunday</td>\n",
       "    </tr>\n",
       "    <tr>\n",
       "      <th>9284441f-a6ea-4698-9017-86436b92d416</th>\n",
       "      <td>2018-09-09 01:06:03</td>\n",
       "      <td>Else</td>\n",
       "      <td>TX</td>\n",
       "      <td>T-Mobile USA</td>\n",
       "      <td>missing</td>\n",
       "      <td>missing</td>\n",
       "      <td>7.0</td>\n",
       "      <td>1280</td>\n",
       "      <td>720</td>\n",
       "      <td>0</td>\n",
       "      <td>September</td>\n",
       "      <td>Sunday</td>\n",
       "    </tr>\n",
       "    <tr>\n",
       "      <th>7e4779c2-f757-4324-8c2a-138b558b5a54</th>\n",
       "      <td>2018-09-09 01:06:26</td>\n",
       "      <td>Else</td>\n",
       "      <td>Else</td>\n",
       "      <td>AT&amp;T Wireless</td>\n",
       "      <td>missing</td>\n",
       "      <td>missing</td>\n",
       "      <td>7.1.1</td>\n",
       "      <td>720</td>\n",
       "      <td>1280</td>\n",
       "      <td>0</td>\n",
       "      <td>September</td>\n",
       "      <td>Sunday</td>\n",
       "    </tr>\n",
       "    <tr>\n",
       "      <th>b64ea208-38ca-42ac-895e-0842d7352cc3</th>\n",
       "      <td>2018-09-09 01:06:45</td>\n",
       "      <td>Else</td>\n",
       "      <td>Else</td>\n",
       "      <td>Comcast Cable</td>\n",
       "      <td>missing</td>\n",
       "      <td>missing</td>\n",
       "      <td>6.0.1</td>\n",
       "      <td>720</td>\n",
       "      <td>1280</td>\n",
       "      <td>0</td>\n",
       "      <td>September</td>\n",
       "      <td>Sunday</td>\n",
       "    </tr>\n",
       "    <tr>\n",
       "      <th>fd0c07cb-31f6-408c-9315-1cb652e76abc</th>\n",
       "      <td>2018-09-09 01:07:23</td>\n",
       "      <td>Else</td>\n",
       "      <td>Else</td>\n",
       "      <td>Else</td>\n",
       "      <td>missing</td>\n",
       "      <td>missing</td>\n",
       "      <td>7.1.1</td>\n",
       "      <td>1024</td>\n",
       "      <td>768</td>\n",
       "      <td>0</td>\n",
       "      <td>September</td>\n",
       "      <td>Sunday</td>\n",
       "    </tr>\n",
       "  </tbody>\n",
       "</table>\n",
       "</div>"
      ],
      "text/plain": [
       "                                                utc_time app_id user_state  \\\n",
       "bidid                                                                        \n",
       "87b0108c-6e9f-4783-8b80-8dd5aa3529a8 2018-09-09 01:05:31   Else         TX   \n",
       "9284441f-a6ea-4698-9017-86436b92d416 2018-09-09 01:06:03   Else         TX   \n",
       "7e4779c2-f757-4324-8c2a-138b558b5a54 2018-09-09 01:06:26   Else       Else   \n",
       "b64ea208-38ca-42ac-895e-0842d7352cc3 2018-09-09 01:06:45   Else       Else   \n",
       "fd0c07cb-31f6-408c-9315-1cb652e76abc 2018-09-09 01:07:23   Else       Else   \n",
       "\n",
       "                                           user_isp device_maker device_model  \\\n",
       "bidid                                                                           \n",
       "87b0108c-6e9f-4783-8b80-8dd5aa3529a8  AT&T Wireless      missing      missing   \n",
       "9284441f-a6ea-4698-9017-86436b92d416   T-Mobile USA      missing      missing   \n",
       "7e4779c2-f757-4324-8c2a-138b558b5a54  AT&T Wireless      missing      missing   \n",
       "b64ea208-38ca-42ac-895e-0842d7352cc3  Comcast Cable      missing      missing   \n",
       "fd0c07cb-31f6-408c-9315-1cb652e76abc           Else      missing      missing   \n",
       "\n",
       "                                     device_osv  device_height  device_width  \\\n",
       "bidid                                                                          \n",
       "87b0108c-6e9f-4783-8b80-8dd5aa3529a8        7.0            720          1280   \n",
       "9284441f-a6ea-4698-9017-86436b92d416        7.0           1280           720   \n",
       "7e4779c2-f757-4324-8c2a-138b558b5a54      7.1.1            720          1280   \n",
       "b64ea208-38ca-42ac-895e-0842d7352cc3      6.0.1            720          1280   \n",
       "fd0c07cb-31f6-408c-9315-1cb652e76abc      7.1.1           1024           768   \n",
       "\n",
       "                                      click      month     day  \n",
       "bidid                                                           \n",
       "87b0108c-6e9f-4783-8b80-8dd5aa3529a8      0  September  Sunday  \n",
       "9284441f-a6ea-4698-9017-86436b92d416      0  September  Sunday  \n",
       "7e4779c2-f757-4324-8c2a-138b558b5a54      0  September  Sunday  \n",
       "b64ea208-38ca-42ac-895e-0842d7352cc3      0  September  Sunday  \n",
       "fd0c07cb-31f6-408c-9315-1cb652e76abc      0  September  Sunday  "
      ]
     },
     "execution_count": 46,
     "metadata": {},
     "output_type": "execute_result"
    }
   ],
   "source": [
    "dataset.head()"
   ]
  },
  {
   "cell_type": "code",
   "execution_count": 47,
   "metadata": {},
   "outputs": [],
   "source": [
    "dataset = dataset.drop(['utc_time'], axis=1)"
   ]
  },
  {
   "cell_type": "markdown",
   "metadata": {},
   "source": [
    "## Part 3: Making predictions"
   ]
  },
  {
   "cell_type": "markdown",
   "metadata": {},
   "source": [
    "This section of the notebook describes using a Random Forest Classifier to predict if users click the online advertisement or not.\n"
   ]
  },
  {
   "cell_type": "code",
   "execution_count": 53,
   "metadata": {},
   "outputs": [],
   "source": [
    "# Using the entire dataset in infeasible on my computer so I will cut down the dataset by 90% so I can run my model\n",
    "dataset = pd.read_csv('android_bids_us.csv', index_col = 'bidid')\n",
    "dataset = dataset.sample(frac = 0.1) # note running models with more data does not improve results"
   ]
  },
  {
   "cell_type": "code",
   "execution_count": 54,
   "metadata": {},
   "outputs": [],
   "source": [
    "obj_data = (dataset.dtypes == 'object')\n",
    "object_cols = list(obj_data[obj_data].index)\n",
    "dataset[object_cols] = dataset[object_cols].fillna('missing')"
   ]
  },
  {
   "cell_type": "code",
   "execution_count": 55,
   "metadata": {},
   "outputs": [],
   "source": [
    "X = dataset.iloc[:, :-1]  \n",
    "y = dataset.iloc[:,-1] "
   ]
  },
  {
   "cell_type": "code",
   "execution_count": 56,
   "metadata": {},
   "outputs": [],
   "source": [
    "def relabeler(variable: str):\n",
    "    w = pd.crosstab(X[variable], dataset['click'])\n",
    "    z = (w[1]/len(X[dataset['click'] == True])).sort_values(ascending=False)\n",
    "    choices = list(z.index)[:4]\n",
    "    conditions = []\n",
    "    for i in choices:\n",
    "        x = X[variable] == i\n",
    "        conditions.append(x)\n",
    "    X[variable] = np.select(conditions, choices, default='Else')\n",
    "    \n",
    "object_cols.remove('marketplace')"
   ]
  },
  {
   "cell_type": "code",
   "execution_count": 57,
   "metadata": {},
   "outputs": [],
   "source": [
    "for i in object_cols:\n",
    "    relabeler(i)"
   ]
  },
  {
   "cell_type": "code",
   "execution_count": 58,
   "metadata": {},
   "outputs": [
    {
     "data": {
      "text/html": [
       "<div>\n",
       "<style scoped>\n",
       "    .dataframe tbody tr th:only-of-type {\n",
       "        vertical-align: middle;\n",
       "    }\n",
       "\n",
       "    .dataframe tbody tr th {\n",
       "        vertical-align: top;\n",
       "    }\n",
       "\n",
       "    .dataframe thead th {\n",
       "        text-align: right;\n",
       "    }\n",
       "</style>\n",
       "<table border=\"1\" class=\"dataframe\">\n",
       "  <thead>\n",
       "    <tr style=\"text-align: right;\">\n",
       "      <th></th>\n",
       "      <th>app_id</th>\n",
       "      <th>user_state</th>\n",
       "      <th>user_isp</th>\n",
       "      <th>device_maker</th>\n",
       "      <th>device_model</th>\n",
       "      <th>device_osv</th>\n",
       "      <th>marketplace</th>\n",
       "    </tr>\n",
       "  </thead>\n",
       "  <tbody>\n",
       "    <tr>\n",
       "      <th>count</th>\n",
       "      <td>314883</td>\n",
       "      <td>314883</td>\n",
       "      <td>314883</td>\n",
       "      <td>314883</td>\n",
       "      <td>314883</td>\n",
       "      <td>314883</td>\n",
       "      <td>314883</td>\n",
       "    </tr>\n",
       "    <tr>\n",
       "      <th>unique</th>\n",
       "      <td>5</td>\n",
       "      <td>5</td>\n",
       "      <td>5</td>\n",
       "      <td>5</td>\n",
       "      <td>5</td>\n",
       "      <td>5</td>\n",
       "      <td>1</td>\n",
       "    </tr>\n",
       "    <tr>\n",
       "      <th>top</th>\n",
       "      <td>Else</td>\n",
       "      <td>Else</td>\n",
       "      <td>Else</td>\n",
       "      <td>missing</td>\n",
       "      <td>Else</td>\n",
       "      <td>7.0</td>\n",
       "      <td>chartboost</td>\n",
       "    </tr>\n",
       "    <tr>\n",
       "      <th>freq</th>\n",
       "      <td>300743</td>\n",
       "      <td>189145</td>\n",
       "      <td>135631</td>\n",
       "      <td>95843</td>\n",
       "      <td>191117</td>\n",
       "      <td>108777</td>\n",
       "      <td>314883</td>\n",
       "    </tr>\n",
       "  </tbody>\n",
       "</table>\n",
       "</div>"
      ],
      "text/plain": [
       "        app_id user_state user_isp device_maker device_model device_osv  \\\n",
       "count   314883     314883   314883       314883       314883     314883   \n",
       "unique       5          5        5            5            5          5   \n",
       "top       Else       Else     Else      missing         Else        7.0   \n",
       "freq    300743     189145   135631        95843       191117     108777   \n",
       "\n",
       "       marketplace  \n",
       "count       314883  \n",
       "unique           1  \n",
       "top     chartboost  \n",
       "freq        314883  "
      ]
     },
     "execution_count": 58,
     "metadata": {},
     "output_type": "execute_result"
    }
   ],
   "source": [
    "pd.DataFrame(X.describe(include=['object', 'bool']))"
   ]
  },
  {
   "cell_type": "code",
   "execution_count": 59,
   "metadata": {},
   "outputs": [],
   "source": [
    "X = X.drop(['marketplace'], axis=1)\n"
   ]
  },
  {
   "cell_type": "code",
   "execution_count": 60,
   "metadata": {},
   "outputs": [],
   "source": [
    "x= datetime.fromtimestamp(float(str(dataset.iloc[0,0])[0:10]))\n",
    "X['utc_time'] = X['utc_time'].apply(lambda x:datetime.fromtimestamp(float(str(x)[0:10])))\n",
    "X['month'] = X['utc_time'].apply(lambda x: x.strftime(\"%B\"))\n",
    "X['day'] = X['utc_time'].apply(lambda x: x.strftime(\"%A\"))\n",
    "\n",
    "X = X.drop(['utc_time'], axis=1)"
   ]
  },
  {
   "cell_type": "code",
   "execution_count": 61,
   "metadata": {},
   "outputs": [],
   "source": [
    "obj_data = (X.dtypes == 'object')\n",
    "object_cols = list(obj_data[obj_data].index)\n",
    "OH_encoder = OneHotEncoder(handle_unknown='ignore', sparse=False)\n",
    "OH_encoder.fit(X[object_cols])\n",
    "x_cat = OH_encoder.transform(X[object_cols])\n",
    "\n",
    "x_cat = pd.DataFrame(x_cat)\n",
    "x_cat.columns = OH_encoder.get_feature_names()\n",
    "x_cat.index = X.index\n",
    "X = X.drop(object_cols, axis=1)\n",
    "X = pd.concat([X, x_cat], axis=1)"
   ]
  },
  {
   "cell_type": "code",
   "execution_count": 62,
   "metadata": {},
   "outputs": [],
   "source": [
    "# Split data  into training and testing data. Will use 80% as training data and 20% as testing data. The continuous time series aspect of this data \n",
    "# has been removed. The time variables in this data are looking to see if the day or the month can predict a click. \n",
    "# Therefore this data will be split so each the training and the testing can have samples for all the days and all the months.\n",
    "X_train, X_test, y_train, y_test = train_test_split(X,y, test_size = 0.2, random_state = 0)"
   ]
  },
  {
   "cell_type": "code",
   "execution_count": 63,
   "metadata": {},
   "outputs": [
    {
     "data": {
      "image/png": "[encoded data removed]",
      "text/plain": [
       "<Figure size 432x288 with 2 Axes>"
      ]
     },
     "metadata": {
      "needs_background": "light"
     },
     "output_type": "display_data"
    }
   ],
   "source": [
    "# Test the accurary of the model with a confusion matrix\n",
    "\n",
    "model = RandomForestClassifier(n_estimators=100, \n",
    "                               bootstrap = True\n",
    "                              )\n",
    "\n",
    "classifier = model.fit(X_train, y_train)\n",
    "disp = plot_confusion_matrix(classifier, X_test, y_test,\n",
    "                             cmap=plt.cm.Blues,\n",
    "                             normalize = 'true')"
   ]
  },
  {
   "cell_type": "code",
   "execution_count": 65,
   "metadata": {},
   "outputs": [
    {
     "name": "stdout",
     "output_type": "stream",
     "text": [
      "0.549349849019245\n"
     ]
    }
   ],
   "source": [
    "# Confirm poor test results with a Roc score\n",
    "predict_prop = model.predict_proba(X_test)\n",
    "p_probs = predict_prop[:,1]\n",
    "roc_auc_value = roc_auc_score(y_test, p_probs)\n",
    "print(roc_auc_value)"
   ]
  },
  {
   "cell_type": "markdown",
   "metadata": {},
   "source": [
    "## Conclusion"
   ]
  },
  {
   "cell_type": "markdown",
   "metadata": {},
   "source": [
    "Looking at the confusion matrix and the roc_value it is clear that the model does not accurately predict clicks. The confusion matrix shows that 98.5% of the time the model predicts no clicks when it should have predicted a click, while the roc_auc_value shows that the model is close to a predictor that predicts zero in all cases.\n",
    "\n",
    "This is not surprising. The data exploration analysis portion of this notebook shows that many of the features of the dataset make little impact on whether the user clicks the advertisement or not. For example, most of the catagories in each of the variables of the dataset only have their number of clicks grow in proportion to the fraction of the variable the individual catagory accounts for. This implies that many of the variables do not contain information that is valuable for prediction if a user will click on an advertisement as the information does not influence if an advertisement is clicked.\n",
    "\n",
    "Other data should be used to enrish this dataset. Based on internet research useful data includes:\n",
    "\n",
    "- device type\n",
    "- location type - sports stadium, malls, residence ect.\n",
    "- regions defined by wealth\n",
    "- season \n",
    "- time of day\n",
    "\n",
    "Another area of to explore to improve the model is using different dimensionality reducing techiques such as using clustering, lasso and support vectors.\n",
    "\n",
    "As well, for future improvements other types of classifier models can be explored.\n",
    "\n",
    "Although I believe that the bigger issue lies with the explanatory variables, perhaps and not the model type"
   ]
  }
 ],
 "metadata": {
  "kernelspec": {
   "display_name": "Python 3",
   "language": "python",
   "name": "python3"
  },
  "language_info": {
   "codemirror_mode": {
    "name": "ipython",
    "version": 3
   },
   "file_extension": ".py",
   "mimetype": "text/x-python",
   "name": "python",
   "nbconvert_exporter": "python",
   "pygments_lexer": "ipython3",
   "version": "3.7.6"
  }
 },
 "nbformat": 4,
 "nbformat_minor": 4
}
